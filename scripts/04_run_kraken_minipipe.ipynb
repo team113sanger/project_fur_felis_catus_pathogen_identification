{
 "cells": [
  {
   "cell_type": "code",
   "execution_count": null,
   "metadata": {
    "vscode": {
     "languageId": "shellscript"
    }
   },
   "outputs": [],
   "source": [
    "module load nextflow\n",
    "nextflow run scripts/kraken2/main.nf \\\n",
    "-params-file /lustre/scratch125/casm/team113da/projects/FUR/FUR_analysis/FUR_analysis_cat/pathogen_identification/analysis/6555_2711/params.json \\\n",
    "-c scripts/nextflow.config \\\n",
    "-profile farm22\n",
    "\n"
   ]
  },
  {
   "cell_type": "code",
   "execution_count": 2,
   "metadata": {
    "vscode": {
     "languageId": "shellscript"
    }
   },
   "outputs": [
    {
     "name": "stdout",
     "output_type": "stream",
     "text": [
      "/lustre/scratch125/casm/team113da/projects/FUR/FUR_analysis/FUR_analysis_cat/pathogen_identification/scripts\n"
     ]
    }
   ],
   "source": [
    "cd /lustre/scratch125/casm/team113da/projects/FUR/FUR_analysis/FUR_analysis_cat/pathogen_identification\n",
    "\n",
    "module load nextflow\n",
    "nextflow run scripts/kraken2/main.nf \\\n",
    "-params-file /lustre/scratch125/casm/team113da/projects/FUR/FUR_analysis/FUR_analysis_cat/pathogen_identification/analysis/6711_2820/params.json \\\n",
    "-c scripts/nextflow.config \\\n",
    "-profile farm22"
   ]
  }
 ],
 "metadata": {
  "kernelspec": {
   "display_name": "Bash",
   "language": "bash",
   "name": "bash"
  },
  "language_info": {
   "codemirror_mode": "shell",
   "file_extension": ".sh",
   "mimetype": "text/x-sh",
   "name": "bash"
  }
 },
 "nbformat": 4,
 "nbformat_minor": 2
}
